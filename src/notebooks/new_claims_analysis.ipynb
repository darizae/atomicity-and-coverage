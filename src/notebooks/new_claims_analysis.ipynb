{
 "cells": [
  {
   "cell_type": "code",
   "id": "initial_id",
   "metadata": {
    "collapsed": true,
    "ExecuteTime": {
     "end_time": "2025-02-19T10:56:05.972400Z",
     "start_time": "2025-02-19T10:56:05.970267Z"
    }
   },
   "source": [
    "import os\n",
    "import glob\n",
    "import json\n",
    "import pandas as pd\n",
    "import seaborn as sns\n",
    "import matplotlib.pyplot as plt\n",
    "import matplotlib.ticker as mticker\n",
    "\n",
    "# Adjust to your preferred style\n",
    "sns.set_style(\"whitegrid\")\n",
    "plt.rcParams[\"figure.figsize\"] = (8, 5)"
   ],
   "outputs": [],
   "execution_count": 1
  },
  {
   "metadata": {
    "ExecuteTime": {
     "end_time": "2025-02-19T10:56:05.976476Z",
     "start_time": "2025-02-19T10:56:05.973108Z"
    }
   },
   "cell_type": "code",
   "source": [
    "def parse_combined_json(json_path: str):\n",
    "    \"\"\"\n",
    "    Parses a combined.json file, extracting coverage & atomicity from each entry.\n",
    "    Extracts alignment_method, model, and threshold based on directory structure.\n",
    "    \"\"\"\n",
    "    # 1) Break the path into components\n",
    "    parts = json_path.split(os.sep)\n",
    "    \n",
    "    # 2) Extract relevant directory names\n",
    "    try:\n",
    "        alignment_method = parts[-5]  # 'entailment'\n",
    "        model_dir = parts[-4]  # e.g., 'gpt_maximize_coverage'\n",
    "        threshold_str = parts[-3]  # e.g., 'threshold_0.70'\n",
    "        threshold_val = float(threshold_str.replace(\"threshold_\", \"\"))\n",
    "    except (IndexError, ValueError):\n",
    "        print(f\"Warning: Could not extract metadata from path {json_path}\")\n",
    "        return []\n",
    "\n",
    "    # 3) Load the JSON data\n",
    "    with open(json_path, \"r\") as f:\n",
    "        data = json.load(f)\n",
    "    \n",
    "    rows = []\n",
    "\n",
    "    # 4) Process JSON entries\n",
    "    for dataset_name, entries in data.items():\n",
    "        if isinstance(entries, list):\n",
    "            for item in entries:\n",
    "                coverage = item.get(\"coverage\", None)\n",
    "                atomicity = item.get(\"atomicity\", None)\n",
    "                \n",
    "                row = {\n",
    "                    \"dataset\": dataset_name,\n",
    "                    \"alignment_method\": alignment_method,\n",
    "                    \"model\": model_dir,\n",
    "                    \"threshold\": threshold_val,\n",
    "                    \"coverage\": coverage,\n",
    "                    \"atomicity\": atomicity\n",
    "                }\n",
    "                rows.append(row)\n",
    "    \n",
    "    return rows"
   ],
   "id": "eab3d281effeedff",
   "outputs": [],
   "execution_count": 2
  },
  {
   "metadata": {
    "ExecuteTime": {
     "end_time": "2025-02-19T10:56:20.110143Z",
     "start_time": "2025-02-19T10:56:20.095980Z"
    }
   },
   "cell_type": "code",
   "source": [
    "# Define the base path where JSON results are stored\n",
    "base_path = \"../metrics/alignment_results\"  # Adjust if needed\n",
    "\n",
    "all_records = []\n",
    "\n",
    "# Recursively search for all combined.json files\n",
    "pattern = os.path.join(base_path, \"**\", \"combined.json\")\n",
    "json_files = glob.glob(pattern, recursive=True)\n",
    "\n",
    "for jf in json_files:\n",
    "    records = parse_combined_json(jf)\n",
    "    all_records.extend(records)\n",
    "\n",
    "# Convert to DataFrame\n",
    "df = pd.DataFrame(all_records)\n",
    "\n",
    "print(f\"Found {len(df)} entries total.\")\n",
    "df.head()"
   ],
   "id": "a914b7a9c743e724",
   "outputs": [
    {
     "name": "stdout",
     "output_type": "stream",
     "text": [
      "Found 20 entries total.\n"
     ]
    },
    {
     "data": {
      "text/plain": [
       "            dataset    alignment_method                  model  threshold  \\\n",
       "0        cnndm_test  roberta-large-mnli        kg_based_claims        0.7   \n",
       "1  cnndm_validation  roberta-large-mnli        kg_based_claims        0.7   \n",
       "2              xsum  roberta-large-mnli        kg_based_claims        0.7   \n",
       "3            samsum  roberta-large-mnli        kg_based_claims        0.7   \n",
       "4        cnndm_test  roberta-large-mnli  gpt_maximize_coverage        0.7   \n",
       "\n",
       "   coverage  atomicity  \n",
       "0  0.666667   0.400000  \n",
       "1  0.777778   0.833333  \n",
       "2  0.000000   0.000000  \n",
       "3  1.000000   1.000000  \n",
       "4  1.000000   0.375000  "
      ],
      "text/html": [
       "<div>\n",
       "<style scoped>\n",
       "    .dataframe tbody tr th:only-of-type {\n",
       "        vertical-align: middle;\n",
       "    }\n",
       "\n",
       "    .dataframe tbody tr th {\n",
       "        vertical-align: top;\n",
       "    }\n",
       "\n",
       "    .dataframe thead th {\n",
       "        text-align: right;\n",
       "    }\n",
       "</style>\n",
       "<table border=\"1\" class=\"dataframe\">\n",
       "  <thead>\n",
       "    <tr style=\"text-align: right;\">\n",
       "      <th></th>\n",
       "      <th>dataset</th>\n",
       "      <th>alignment_method</th>\n",
       "      <th>model</th>\n",
       "      <th>threshold</th>\n",
       "      <th>coverage</th>\n",
       "      <th>atomicity</th>\n",
       "    </tr>\n",
       "  </thead>\n",
       "  <tbody>\n",
       "    <tr>\n",
       "      <th>0</th>\n",
       "      <td>cnndm_test</td>\n",
       "      <td>roberta-large-mnli</td>\n",
       "      <td>kg_based_claims</td>\n",
       "      <td>0.7</td>\n",
       "      <td>0.666667</td>\n",
       "      <td>0.400000</td>\n",
       "    </tr>\n",
       "    <tr>\n",
       "      <th>1</th>\n",
       "      <td>cnndm_validation</td>\n",
       "      <td>roberta-large-mnli</td>\n",
       "      <td>kg_based_claims</td>\n",
       "      <td>0.7</td>\n",
       "      <td>0.777778</td>\n",
       "      <td>0.833333</td>\n",
       "    </tr>\n",
       "    <tr>\n",
       "      <th>2</th>\n",
       "      <td>xsum</td>\n",
       "      <td>roberta-large-mnli</td>\n",
       "      <td>kg_based_claims</td>\n",
       "      <td>0.7</td>\n",
       "      <td>0.000000</td>\n",
       "      <td>0.000000</td>\n",
       "    </tr>\n",
       "    <tr>\n",
       "      <th>3</th>\n",
       "      <td>samsum</td>\n",
       "      <td>roberta-large-mnli</td>\n",
       "      <td>kg_based_claims</td>\n",
       "      <td>0.7</td>\n",
       "      <td>1.000000</td>\n",
       "      <td>1.000000</td>\n",
       "    </tr>\n",
       "    <tr>\n",
       "      <th>4</th>\n",
       "      <td>cnndm_test</td>\n",
       "      <td>roberta-large-mnli</td>\n",
       "      <td>gpt_maximize_coverage</td>\n",
       "      <td>0.7</td>\n",
       "      <td>1.000000</td>\n",
       "      <td>0.375000</td>\n",
       "    </tr>\n",
       "  </tbody>\n",
       "</table>\n",
       "</div>"
      ]
     },
     "execution_count": 5,
     "metadata": {},
     "output_type": "execute_result"
    }
   ],
   "execution_count": 5
  },
  {
   "metadata": {
    "ExecuteTime": {
     "end_time": "2025-02-19T10:56:28.208153Z",
     "start_time": "2025-02-19T10:56:28.193600Z"
    }
   },
   "cell_type": "code",
   "source": [
    "# Compute average coverage & atomicity by method, model, threshold\n",
    "group_cols = [\"alignment_method\", \"model\", \"threshold\"]\n",
    "\n",
    "summary_df = (\n",
    "    df.groupby(group_cols, as_index=False)\n",
    "      .agg({\n",
    "          \"coverage\": \"mean\",\n",
    "          \"atomicity\": \"mean\",\n",
    "      })\n",
    ")\n",
    "\n",
    "summary_df.sort_values(group_cols, inplace=True)\n",
    "summary_df"
   ],
   "id": "1b1ddcbc8afaa511",
   "outputs": [
    {
     "data": {
      "text/plain": [
       "     alignment_method                   model  threshold  coverage  atomicity\n",
       "0  roberta-large-mnli    gpt_granularity_high        0.7  0.527778   0.359375\n",
       "1  roberta-large-mnli     gpt_granularity_low        0.7  0.527778   0.380208\n",
       "2  roberta-large-mnli  gpt_maximize_atomicity        0.7  0.555556   0.430060\n",
       "3  roberta-large-mnli   gpt_maximize_coverage        0.7  0.944444   0.666667\n",
       "4  roberta-large-mnli         kg_based_claims        0.7  0.611111   0.558333"
      ],
      "text/html": [
       "<div>\n",
       "<style scoped>\n",
       "    .dataframe tbody tr th:only-of-type {\n",
       "        vertical-align: middle;\n",
       "    }\n",
       "\n",
       "    .dataframe tbody tr th {\n",
       "        vertical-align: top;\n",
       "    }\n",
       "\n",
       "    .dataframe thead th {\n",
       "        text-align: right;\n",
       "    }\n",
       "</style>\n",
       "<table border=\"1\" class=\"dataframe\">\n",
       "  <thead>\n",
       "    <tr style=\"text-align: right;\">\n",
       "      <th></th>\n",
       "      <th>alignment_method</th>\n",
       "      <th>model</th>\n",
       "      <th>threshold</th>\n",
       "      <th>coverage</th>\n",
       "      <th>atomicity</th>\n",
       "    </tr>\n",
       "  </thead>\n",
       "  <tbody>\n",
       "    <tr>\n",
       "      <th>0</th>\n",
       "      <td>roberta-large-mnli</td>\n",
       "      <td>gpt_granularity_high</td>\n",
       "      <td>0.7</td>\n",
       "      <td>0.527778</td>\n",
       "      <td>0.359375</td>\n",
       "    </tr>\n",
       "    <tr>\n",
       "      <th>1</th>\n",
       "      <td>roberta-large-mnli</td>\n",
       "      <td>gpt_granularity_low</td>\n",
       "      <td>0.7</td>\n",
       "      <td>0.527778</td>\n",
       "      <td>0.380208</td>\n",
       "    </tr>\n",
       "    <tr>\n",
       "      <th>2</th>\n",
       "      <td>roberta-large-mnli</td>\n",
       "      <td>gpt_maximize_atomicity</td>\n",
       "      <td>0.7</td>\n",
       "      <td>0.555556</td>\n",
       "      <td>0.430060</td>\n",
       "    </tr>\n",
       "    <tr>\n",
       "      <th>3</th>\n",
       "      <td>roberta-large-mnli</td>\n",
       "      <td>gpt_maximize_coverage</td>\n",
       "      <td>0.7</td>\n",
       "      <td>0.944444</td>\n",
       "      <td>0.666667</td>\n",
       "    </tr>\n",
       "    <tr>\n",
       "      <th>4</th>\n",
       "      <td>roberta-large-mnli</td>\n",
       "      <td>kg_based_claims</td>\n",
       "      <td>0.7</td>\n",
       "      <td>0.611111</td>\n",
       "      <td>0.558333</td>\n",
       "    </tr>\n",
       "  </tbody>\n",
       "</table>\n",
       "</div>"
      ]
     },
     "execution_count": 6,
     "metadata": {},
     "output_type": "execute_result"
    }
   ],
   "execution_count": 6
  },
  {
   "metadata": {
    "ExecuteTime": {
     "end_time": "2025-02-19T10:57:29.255578Z",
     "start_time": "2025-02-19T10:57:29.042621Z"
    }
   },
   "cell_type": "code",
   "source": [
    "g = sns.catplot(\n",
    "    data=summary_df, kind=\"bar\",\n",
    "    x=\"alignment_method\", \n",
    "    y=\"coverage\",\n",
    "    hue=\"model\", \n",
    "    # col=\"threshold\",\n",
    "    height=4, \n",
    "    aspect=1.2\n",
    ")\n",
    "\n",
    "g.set_titles(\"Coverage\")  \n",
    "g.set_xlabels(\"Alignment Method\")\n",
    "g.set_ylabels(\"Coverage\")\n",
    "g.set_xticklabels(rotation=30)\n",
    "plt.show()"
   ],
   "id": "261dcfff583d3477",
   "outputs": [
    {
     "data": {
      "text/plain": [
       "<Figure size 680.625x400 with 1 Axes>"
      ],
      "image/png": "[encoded data removed]"
     },
     "metadata": {},
     "output_type": "display_data"
    }
   ],
   "execution_count": 7
  },
  {
   "metadata": {
    "ExecuteTime": {
     "end_time": "2025-02-19T10:57:51.173780Z",
     "start_time": "2025-02-19T10:57:51.050650Z"
    }
   },
   "cell_type": "code",
   "source": [
    "sns.set_style(\"whitegrid\")\n",
    "\n",
    "g = sns.catplot(\n",
    "    data=summary_df, kind=\"bar\",\n",
    "    x=\"alignment_method\", \n",
    "    y=\"atomicity\",\n",
    "    hue=\"model\", \n",
    "    # col=\"threshold\",\n",
    "    height=4, \n",
    "    aspect=1.2\n",
    ")\n",
    "\n",
    "g.set_titles(\"Atomicity\")\n",
    "g.set_xlabels(\"Alignment Method\")\n",
    "g.set_ylabels(\"Atomicity\")\n",
    "g.set_xticklabels(rotation=30)\n",
    "g.set(ylim=(0, 1.0))\n",
    "plt.show()"
   ],
   "id": "ce736d936c483569",
   "outputs": [
    {
     "data": {
      "text/plain": [
       "<Figure size 680.625x400 with 1 Axes>"
      ],
      "image/png": "[encoded data removed]"
     },
     "metadata": {},
     "output_type": "display_data"
    }
   ],
   "execution_count": 8
  },
  {
   "metadata": {},
   "cell_type": "code",
   "outputs": [],
   "execution_count": null,
   "source": "",
   "id": "d22bf4f2ac8c41fc"
  }
 ],
 "metadata": {
  "kernelspec": {
   "display_name": "Python 3",
   "language": "python",
   "name": "python3"
  },
  "language_info": {
   "codemirror_mode": {
    "name": "ipython",
    "version": 2
   },
   "file_extension": ".py",
   "mimetype": "text/x-python",
   "name": "python",
   "nbconvert_exporter": "python",
   "pygments_lexer": "ipython2",
   "version": "2.7.6"
  }
 },
 "nbformat": 4,
 "nbformat_minor": 5
}

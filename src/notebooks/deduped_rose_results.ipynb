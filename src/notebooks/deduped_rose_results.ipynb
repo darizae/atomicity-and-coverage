{
 "cells": [
  {
   "cell_type": "code",
   "id": "initial_id",
   "metadata": {
    "collapsed": true,
    "ExecuteTime": {
     "end_time": "2025-01-30T03:42:54.248163Z",
     "start_time": "2025-01-30T03:42:54.043266Z"
    }
   },
   "source": [
    "import glob\n",
    "import json\n",
    "import re\n",
    "import pandas as pd\n",
    "\n",
    "pattern = \"metrics/alignment_results/*/*/threshold_*/**/*.json\"\n",
    "all_rows = []\n",
    "\n",
    "for path in glob.glob(pattern, recursive=True):\n",
    "    # e.g. path = \"metrics/alignment_results/embedding/gpt-3.5-turbo/threshold_0.7/refdedup_0.3_select_longest/cnndm_test.json\"\n",
    "\n",
    "    # parse out method, model, alignment_threshold, dedup_threshold, dedup_strategy\n",
    "    # for example:\n",
    "    # splitted = path.split(\"/\")\n",
    "    # splitted might be [\"metrics\", \"alignment_results\", \"embedding\", \"gpt-3.5-turbo\", \"threshold_0.7\", \"refdedup_0.3_select_longest\", \"cnndm_test.json\"]\n",
    "\n",
    "    # parse out dataset from the filename, e.g. \"cnndm_test\" from \"cnndm_test.json\"\n",
    "\n",
    "    with open(path, \"r\") as f:\n",
    "        data = json.load(f)\n",
    "\n",
    "    if isinstance(data, dict) and \"cnndm_test\" in data:\n",
    "        # It's a combined.json for all datasets\n",
    "        for dataset_name, entries in data.items():\n",
    "            for rec in entries:\n",
    "                coverage = rec.get(\"coverage\")\n",
    "                atomicity = rec.get(\"atomicity\")\n",
    "                # ...\n",
    "                # store row\n",
    "    elif isinstance(data, list):\n",
    "        # It's a single dataset file, e.g. \"cnndm_test.json\"\n",
    "        # parse coverage/atomicity\n",
    "        for rec in data:\n",
    "            coverage = rec.get(\"coverage\")\n",
    "            atomicity = rec.get(\"atomicity\")\n",
    "            # ...\n",
    "    # etc. for each row\n",
    "\n",
    "df = pd.DataFrame(all_rows)\n",
    "x = 1"
   ],
   "outputs": [],
   "execution_count": 1
  },
  {
   "metadata": {
    "ExecuteTime": {
     "end_time": "2025-01-30T03:42:54.956265Z",
     "start_time": "2025-01-30T03:42:54.946910Z"
    }
   },
   "cell_type": "code",
   "source": "df",
   "id": "3a0cb18aeeaf3a18",
   "outputs": [
    {
     "data": {
      "text/plain": [
       "Empty DataFrame\n",
       "Columns: []\n",
       "Index: []"
      ],
      "text/html": [
       "<div>\n",
       "<style scoped>\n",
       "    .dataframe tbody tr th:only-of-type {\n",
       "        vertical-align: middle;\n",
       "    }\n",
       "\n",
       "    .dataframe tbody tr th {\n",
       "        vertical-align: top;\n",
       "    }\n",
       "\n",
       "    .dataframe thead th {\n",
       "        text-align: right;\n",
       "    }\n",
       "</style>\n",
       "<table border=\"1\" class=\"dataframe\">\n",
       "  <thead>\n",
       "    <tr style=\"text-align: right;\">\n",
       "      <th></th>\n",
       "    </tr>\n",
       "  </thead>\n",
       "  <tbody>\n",
       "  </tbody>\n",
       "</table>\n",
       "</div>"
      ]
     },
     "execution_count": 2,
     "metadata": {},
     "output_type": "execute_result"
    }
   ],
   "execution_count": 2
  },
  {
   "metadata": {},
   "cell_type": "code",
   "outputs": [],
   "execution_count": null,
   "source": "",
   "id": "1d050b6a664fec49"
  }
 ],
 "metadata": {
  "kernelspec": {
   "display_name": "Python 3",
   "language": "python",
   "name": "python3"
  },
  "language_info": {
   "codemirror_mode": {
    "name": "ipython",
    "version": 2
   },
   "file_extension": ".py",
   "mimetype": "text/x-python",
   "name": "python",
   "nbconvert_exporter": "python",
   "pygments_lexer": "ipython2",
   "version": "2.7.6"
  }
 },
 "nbformat": 4,
 "nbformat_minor": 5
}
